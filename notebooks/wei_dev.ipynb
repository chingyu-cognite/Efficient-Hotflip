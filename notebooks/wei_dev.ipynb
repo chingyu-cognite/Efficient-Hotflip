{
 "metadata": {
  "language_info": {
   "codemirror_mode": {
    "name": "ipython",
    "version": 3
   },
   "file_extension": ".py",
   "mimetype": "text/x-python",
   "name": "python",
   "nbconvert_exporter": "python",
   "pygments_lexer": "ipython3",
   "version": "3.7.9-final"
  },
  "orig_nbformat": 2,
  "kernelspec": {
   "name": "Python 3.7.9 64-bit ('allennlp': conda)",
   "display_name": "Python 3.7.9 64-bit ('allennlp': conda)",
   "metadata": {
    "interpreter": {
     "hash": "e1b17ff0b1beb969f56c216c30b604c390aad39f256dfa6b54aa6b0512ec1ca4"
    }
   }
  }
 },
 "nbformat": 4,
 "nbformat_minor": 2,
 "cells": [
  {
   "cell_type": "code",
   "execution_count": 1,
   "metadata": {},
   "outputs": [],
   "source": [
    "import csv\n",
    "from typing import Dict, Iterable, List\n",
    "\n",
    "import torch\n",
    "from allennlp.data import DatasetReader, Instance\n",
    "from allennlp.data.fields import LabelField, TextField\n",
    "from allennlp.data.token_indexers import TokenIndexer, SingleIdTokenIndexer\n",
    "from allennlp.data.tokenizers import Token, Tokenizer, SpacyTokenizer\n",
    "\n"
   ]
  },
  {
   "cell_type": "code",
   "execution_count": 32,
   "metadata": {},
   "outputs": [],
   "source": [
    "@DatasetReader.register('ag-news-csv', exist_ok=True)\n",
    "class AGNewsCSVReader(DatasetReader):\n",
    "    def __init__(self):\n",
    "        super().__init__()\n",
    "        self.tokenizer = SpacyTokenizer()\n",
    "        self.token_indexers = {'tokens': SingleIdTokenIndexer()}\n",
    "\n",
    "    def _read(self, file_path: str) -> Iterable[Instance]:\n",
    "        with open(file_path, newline='', encoding='utf-8-sig') as csvfile:\n",
    "            reader = csv.reader(csvfile)\n",
    "            next(reader, None)\n",
    "            for row in reader:\n",
    "                label, title, text = row\n",
    "                label_field = LabelField(label)\n",
    "                title_field = TextField(self.tokenizer.tokenize(title),\n",
    "                                        self.token_indexers)\n",
    "                text_field = TextField(self.tokenizer.tokenize(text),\n",
    "                                        self.token_indexers)\n",
    "                fields = {'text': text_field, 'label': label_field, 'title': title_field}\n",
    "                yield Instance(fields)"
   ]
  },
  {
   "cell_type": "code",
   "execution_count": 33,
   "metadata": {},
   "outputs": [],
   "source": [
    "SMALL_PATH = \"/Users/weicognite/Documents/self learning/NLU_SCPD_XCS224U/Project/Efficient-Hotflip/data/small_train.csv\""
   ]
  },
  {
   "cell_type": "code",
   "execution_count": 34,
   "metadata": {
    "tags": []
   },
   "outputs": [
    {
     "output_type": "display_data",
     "data": {
      "text/plain": "HBox(children=(HTML(value='reading instances'), FloatProgress(value=1.0, bar_style='info', layout=Layout(width…",
      "application/vnd.jupyter.widget-view+json": {
       "version_major": 2,
       "version_minor": 0,
       "model_id": "4db6bbc6d1924582b08cbda20a5e43be"
      }
     },
     "metadata": {}
    },
    {
     "output_type": "stream",
     "name": "stderr",
     "text": [
      "\n"
     ]
    }
   ],
   "source": [
    "reader = AGNewsCSVReader()\n",
    "dataset = reader.read(SMALL_PATH)"
   ]
  },
  {
   "cell_type": "code",
   "execution_count": 35,
   "metadata": {
    "tags": []
   },
   "outputs": [
    {
     "output_type": "stream",
     "name": "stdout",
     "text": [
      "Instance with fields:\n \t text: TextField of length 20 with text: \n \t\t[Reuters, -, Short, -, sellers, ,, Wall, Street, 's, dwindling\\band, of, ultra, -, cynics, ,, are,\n\t\tseeing, green, again, .]\n \t\tand TokenIndexers : {'tokens': 'SingleIdTokenIndexer'} \n \t label: LabelField with label: 3 in namespace: 'labels'.' \n \t title: TextField of length 11 with text: \n \t\t[Wall, St., Bears, Claw, Back, Into, the, Black, (, Reuters, )]\n \t\tand TokenIndexers : {'tokens': 'SingleIdTokenIndexer'} \n\nInstance with fields:\n \t text: TextField of length 34 with text: \n \t\t[Reuters, -, Private, investment, firm, Carlyle, Group,\\which, has, a, reputation, for, making,\n\t\twell, -, timed, and, occasionally\\controversial, plays, in, the, defense, industry, ,, has, quietly,\n\t\tplaced\\its, bets, on, another, part, of, the, market, .]\n \t\tand TokenIndexers : {'tokens': 'SingleIdTokenIndexer'} \n \t label: LabelField with label: 3 in namespace: 'labels'.' \n \t title: TextField of length 8 with text: \n \t\t[Carlyle, Looks, Toward, Commercial, Aerospace, (, Reuters, )]\n \t\tand TokenIndexers : {'tokens': 'SingleIdTokenIndexer'} \n\nInstance with fields:\n \t text: TextField of length 30 with text: \n \t\t[Reuters, -, Soaring, crude, prices, plus, worries\\about, the, economy, and, the, outlook, for,\n\t\tearnings, are, expected, to\\hang, over, the, stock, market, next, week, during, the, depth, of,\n\t\tthe\\summer, doldrums, .]\n \t\tand TokenIndexers : {'tokens': 'SingleIdTokenIndexer'} \n \t label: LabelField with label: 3 in namespace: 'labels'.' \n \t title: TextField of length 10 with text: \n \t\t[Oil, and, Economy, Cloud, Stocks, ', Outlook, (, Reuters, )]\n \t\tand TokenIndexers : {'tokens': 'SingleIdTokenIndexer'} \n\nInstance with fields:\n \t text: TextField of length 29 with text: \n \t\t[Reuters, -, Authorities, have, halted, oil, export\\flows, from, the, main, pipeline, in, southern,\n\t\tIraq, after\\intelligence, showed, a, rebel, militia, could, strike\\infrastructure, ,, an, oil,\n\t\tofficial, said, on, Saturday, .]\n \t\tand TokenIndexers : {'tokens': 'SingleIdTokenIndexer'} \n \t label: LabelField with label: 3 in namespace: 'labels'.' \n \t title: TextField of length 11 with text: \n \t\t[Iraq, Halts, Oil, Exports, from, Main, Southern, Pipeline, (, Reuters, )]\n \t\tand TokenIndexers : {'tokens': 'SingleIdTokenIndexer'} \n\nInstance with fields:\n \t text: TextField of length 27 with text: \n \t\t[AFP, -, Tearaway, world, oil, prices, ,, toppling, records, and, straining, wallets, ,, present, a,\n\t\tnew, economic, menace, barely, three, months, before, the, US, presidential, elections, .]\n \t\tand TokenIndexers : {'tokens': 'SingleIdTokenIndexer'} \n \t label: LabelField with label: 3 in namespace: 'labels'.' \n \t title: TextField of length 18 with text: \n \t\t[Oil, prices, soar, to, all, -, time, record, ,, posing, new, menace, to, US, economy, (, AFP, )]\n \t\tand TokenIndexers : {'tokens': 'SingleIdTokenIndexer'} \n\n"
     ]
    }
   ],
   "source": [
    "for instance in dataset[:5]:\n",
    "    print(instance)"
   ]
  },
  {
   "cell_type": "code",
   "execution_count": null,
   "metadata": {},
   "outputs": [],
   "source": []
  }
 ]
}